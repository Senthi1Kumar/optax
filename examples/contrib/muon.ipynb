{
 "cells": [
  {
   "cell_type": "markdown",
   "id": "GDUs0Q8gPYes",
   "metadata": {},
   "source": [
    "# Using the Muon Optimizer in Optax\n",
    "\n",
    "[![Open in Colab](https://colab.research.google.com/assets/colab-badge.svg)](https://colab.sandbox.google.com/github/google-deepmind/optax/blob/main/examples/contrib/muon.ipynb)\n",
    "\n",
    "This notebook demonstrates how to use the `optax.contrib.muon` optimizer. We'll cover three main use cases:\n",
    "\n",
    "1.  **Default Muon:** Automatically applying Muon to 2D matrices and AdamW to all other parameters.\n",
    "2.  **Masked Muon:** Using `muon_weight_mask` to explicitly select which parameters are optimized by Muon.\n",
    "3.  **Muon with Reshaping:** Using `muon_weight_specs` to apply Muon to higher-dimensional parameters (tensors) by specifying how they should be reshaped."
   ]
  },
  {
   "cell_type": "code",
   "execution_count": 1,
   "id": "1b33a858",
   "metadata": {},
   "outputs": [],
   "source": [
    "from pprint import pprint\n",
    "\n",
    "import jax\n",
    "import jax.numpy as jnp\n",
    "from jax import random\n",
    "\n",
    "import optax"
   ]
  },
  {
   "cell_type": "code",
   "execution_count": 2,
   "id": "My-OV8FnPYet",
   "metadata": {},
   "outputs": [],
   "source": [
    "# Create a sample PyTree of parameters with different dimensions\n",
    "keys = iter(random.split(random.key(0), 1024))\n",
    "params = {\n",
    "    \"layer1\": {\n",
    "        \"w\": jax.random.normal(next(keys), (128, 64)),  # 2D matrix\n",
    "        \"b\": jax.random.normal(next(keys), (64,)),  # 1D vector\n",
    "    },\n",
    "    \"layer2\": {\n",
    "        \"w\": jax.random.normal(next(keys), (64, 32)),  # 2D matrix\n",
    "    },\n",
    "    \"layer3_conv\": {\n",
    "        \"w\": jax.random.normal(next(keys), (4, 3, 3, 16))  # 4D tensor\n",
    "    },\n",
    "}\n",
    "\n",
    "\n",
    "# A simple loss function: sum of squares of parameters.\n",
    "# The gradient of this loss is just the parameters themselves.\n",
    "@jax.jit\n",
    "def loss_fn(p):\n",
    "    return sum(jnp.sum(x**2) for x in jax.tree.leaves(p))"
   ]
  },
  {
   "cell_type": "code",
   "execution_count": 3,
   "id": "5ed7c655",
   "metadata": {},
   "outputs": [],
   "source": [
    "def print_state(state):\n",
    "    print(\n",
    "        \"State variables using the muon transform ---------------------------\"\n",
    "    )\n",
    "    pprint(\n",
    "        {\n",
    "            \"\".join(map(str, k)): \"MUON\"\n",
    "            for k, v in jax.tree.flatten_with_path(state.inner_states[\"muon\"])[\n",
    "                0\n",
    "            ]\n",
    "            if v.ndim > 0 and not str(k[-1]).endswith(\"ns_coeffs\")\n",
    "        }\n",
    "    )\n",
    "    print()\n",
    "    print(\n",
    "        \"State variables using the adam transform ---------------------------\"\n",
    "    )\n",
    "    pprint(\n",
    "        {\n",
    "            \"\".join(map(str, k)): \"ADAM\"\n",
    "            for k, v in jax.tree.flatten_with_path(state.inner_states[\"adam\"])[\n",
    "                0\n",
    "            ]\n",
    "            if v.ndim > 0 and not str(k[-1]).endswith(\"ns_coeffs\")\n",
    "        }\n",
    "    )"
   ]
  },
  {
   "cell_type": "markdown",
   "id": "NsbJvXSMPYet",
   "metadata": {},
   "source": [
    "## 1. Default Muon Configuration\n",
    "\n",
    "By default, `muon` partitions parameters based on their dimensionality. Parameters with `ndim == 2` (matrices) are optimized with Muon, while all others are handled by a standard AdamW optimizer."
   ]
  },
  {
   "cell_type": "code",
   "execution_count": 4,
   "id": "7SBQw0DUPYet",
   "metadata": {},
   "outputs": [
    {
     "name": "stdout",
     "output_type": "stream",
     "text": [
      "State variables using the muon transform ---------------------------\n",
      "{\".inner_state[0].mu['layer1']['w']\": 'MUON',\n",
      " \".inner_state[0].mu['layer2']['w']\": 'MUON'}\n",
      "\n",
      "State variables using the adam transform ---------------------------\n",
      "{\".inner_state[0].mu['layer1']['b']\": 'ADAM',\n",
      " \".inner_state[0].mu['layer3_conv']['w']\": 'ADAM',\n",
      " \".inner_state[0].nu['layer1']['b']\": 'ADAM',\n",
      " \".inner_state[0].nu['layer3_conv']['w']\": 'ADAM'}\n"
     ]
    }
   ],
   "source": [
    "# Use muon with default partitioning (ndim == 2 for muon)\n",
    "opt = optax.contrib.muon(learning_rate=1e-3)\n",
    "opt_state = opt.init(params)\n",
    "\n",
    "print_state(opt_state)"
   ]
  },
  {
   "cell_type": "markdown",
   "id": "owBITJDzPYeu",
   "metadata": {},
   "source": [
    "## 2. Using `muon_weight_dimension_numbers` for Explicit Selection and Higher-Rank Tensors\n",
    "\n",
    "The core Muon algorithm (specifically, the Newton-Schulz iteration) operates on 2D matrices. To apply it to tensors of rank > 2, you must provide a `MuonDimensionNumbers` that tells the optimizer how to reshape the tensor into a 2D matrix (`(reduction_dim, output_dim)`).\n",
    "\n",
    "- `reduction_axes`: A tuple of axis indices that will be flattened into the first dimension of the matrix.\n",
    "- `output_axes`: A tuple of axis indices that will be flattened into the second dimension.\n",
    "\n",
    "Any remaining axes are treated as batch dimensions, and the operation is applied independently across them."
   ]
  },
  {
   "cell_type": "markdown",
   "id": "o-hO3C3pkzz6",
   "metadata": {},
   "source": [
    "You can override the default behavior using `muon_weight_dimension_numbers`. This is a PyTree with the same (or a prefix) structure as your parameters, containing `MuonDimensionNumbers` named tuples. If a leaf is a `MuonDimensionNumbers` tuple, the corresponding parameter is handled by Muon; if `None`, it's handled by AdamW.\n",
    "\n",
    "Let's apply Muon *only* to `'layer1'`'s weights and use AdamW for everything else, including the other 2D matrix in `'layer2'`."
   ]
  },
  {
   "cell_type": "code",
   "execution_count": 5,
   "id": "3953eea7",
   "metadata": {},
   "outputs": [
    {
     "name": "stdout",
     "output_type": "stream",
     "text": [
      "optax.contrib.MuonDimensionNumbers doctring:\n",
      "\n",
      "Specification for which weight axes participate in matrix projection.\n",
      "  \n",
      "  Muon defines an orthogonalization for 2D matrix weights for matrix-vector\n",
      "  products:\n",
      "  \n",
      "  .. math::\n",
      "    x W = y\n",
      "    \n",
      "  where the first matrix dimension is the reduction axis and the second matrix\n",
      "  dimension is the output axis. Thus, the default spec consists of 0 and 1\n",
      "  reduction and output axes respectively.\n",
      "  \n",
      "  .. warning::\n",
      "    The batch axes are implicit, all axes not specified as reduction or\n",
      "    output axes are considered batch axes and will be considered independently\n",
      "    in the orthogonalization (via jax.vmap).\n",
      "  \n"
     ]
    }
   ],
   "source": [
    "print(\"optax.contrib.MuonDimensionNumbers doctring:\\n\")\n",
    "print(optax.contrib.MuonDimensionNumbers.__doc__)"
   ]
  },
  {
   "cell_type": "code",
   "execution_count": 6,
   "id": "Mk7wTwWHkyDo",
   "metadata": {},
   "outputs": [
    {
     "name": "stdout",
     "output_type": "stream",
     "text": [
      "State variables using the muon transform ---------------------------\n",
      "{\".inner_state[0].mu['layer1']['w']\": 'MUON'}\n",
      "\n",
      "State variables using the adam transform ---------------------------\n",
      "{\".inner_state[0].mu['layer1']['b']\": 'ADAM',\n",
      " \".inner_state[0].mu['layer2']['w']\": 'ADAM',\n",
      " \".inner_state[0].mu['layer3_conv']['w']\": 'ADAM',\n",
      " \".inner_state[0].nu['layer1']['b']\": 'ADAM',\n",
      " \".inner_state[0].nu['layer2']['w']\": 'ADAM',\n",
      " \".inner_state[0].nu['layer3_conv']['w']\": 'ADAM'}\n"
     ]
    }
   ],
   "source": [
    "# Mask to apply Muon ONLY to layer1's weights.\n",
    "weight_dim_nums = {\n",
    "    \"layer1\": {\n",
    "        # default for 2D is `optax.contrib.MuonDimensionNumbers(0, 1)`\n",
    "        \"w\": optax.contrib.MuonDimensionNumbers(),\n",
    "        \"b\": None,\n",
    "    },\n",
    "    \"layer2\": {\n",
    "        \"w\": None,\n",
    "    },\n",
    "    \"layer3_conv\": {\n",
    "        \"w\": None,\n",
    "    },\n",
    "}\n",
    "\n",
    "opt = optax.contrib.muon(\n",
    "    learning_rate=1e-3, muon_weight_dimension_numbers=weight_dim_nums\n",
    ")\n",
    "opt_state = opt.init(params)\n",
    "print_state(opt_state)"
   ]
  },
  {
   "cell_type": "markdown",
   "id": "utd_LC17k4jw",
   "metadata": {},
   "source": [
    "Let's apply Muon to our 4D convolutional weight tensor from `layer3_conv`."
   ]
  },
  {
   "cell_type": "code",
   "execution_count": 7,
   "id": "612T0RDjPYeu",
   "metadata": {},
   "outputs": [
    {
     "name": "stdout",
     "output_type": "stream",
     "text": [
      "State variables using the muon transform ---------------------------\n",
      "{\".inner_state[0].mu['layer1']['w']\": 'MUON',\n",
      " \".inner_state[0].mu['layer3_conv']['w']\": 'MUON'}\n",
      "\n",
      "State variables using the adam transform ---------------------------\n",
      "{\".inner_state[0].mu['layer1']['b']\": 'ADAM',\n",
      " \".inner_state[0].mu['layer2']['w']\": 'ADAM',\n",
      " \".inner_state[0].nu['layer1']['b']\": 'ADAM',\n",
      " \".inner_state[0].nu['layer2']['w']\": 'ADAM'}\n"
     ]
    }
   ],
   "source": [
    "# We want to apply Muon to the 4D convolutional kernel in 'layer3_conv'.\n",
    "# The shape is (4, 3, 3, 16). Let's treat the first three axes (4*3*3=36)\n",
    "# as the 'reduction' dimension and the last axis (16) as the 'output' dimension.\n",
    "\n",
    "#  Define the corresponding MuonDimensionNumbers for the selected tensors.\n",
    "#  The structure must match parameters. Use None for non-Muon params.\n",
    "weight_dim_nums = {\n",
    "    \"layer1\": {\"w\": optax.contrib.MuonDimensionNumbers((0,), (1,)), \"b\": None},\n",
    "    \"layer2\": {\"w\": None},\n",
    "    \"layer3_conv\": {\n",
    "        \"w\": optax.contrib.MuonDimensionNumbers(\n",
    "            reduction_axis=(0, 1, 2), output_axis=(3,)\n",
    "        ),\n",
    "    },\n",
    "}\n",
    "\n",
    "opt = optax.contrib.muon(\n",
    "    learning_rate=1e-3, muon_weight_dimension_numbers=weight_dim_nums\n",
    ")\n",
    "opt_state = opt.init(params)\n",
    "\n",
    "print_state(opt_state)"
   ]
  }
 ],
 "metadata": {
  "kernelspec": {
   "display_name": "venv",
   "language": "python",
   "name": "python3"
  },
  "language_info": {
   "codemirror_mode": {
    "name": "ipython",
    "version": 3
   },
   "file_extension": ".py",
   "mimetype": "text/x-python",
   "name": "python",
   "nbconvert_exporter": "python",
   "pygments_lexer": "ipython3",
   "version": "3.12.7"
  }
 },
 "nbformat": 4,
 "nbformat_minor": 5
}
